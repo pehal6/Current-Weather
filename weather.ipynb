{
  "nbformat": 4,
  "nbformat_minor": 0,
  "metadata": {
    "colab": {
      "provenance": []
    },
    "kernelspec": {
      "name": "python3",
      "display_name": "Python 3"
    },
    "language_info": {
      "name": "python"
    }
  },
  "cells": [
    {
      "cell_type": "code",
      "source": [
        "!pip install requests\n"
      ],
      "metadata": {
        "colab": {
          "base_uri": "https://localhost:8080/"
        },
        "id": "3nc0q6hG9_Mt",
        "outputId": "0f4b32f5-52d0-4841-81d3-08e86dc564f8"
      },
      "execution_count": 46,
      "outputs": [
        {
          "output_type": "stream",
          "name": "stdout",
          "text": [
            "Requirement already satisfied: requests in /usr/local/lib/python3.11/dist-packages (2.32.3)\n",
            "Requirement already satisfied: charset-normalizer<4,>=2 in /usr/local/lib/python3.11/dist-packages (from requests) (3.4.2)\n",
            "Requirement already satisfied: idna<4,>=2.5 in /usr/local/lib/python3.11/dist-packages (from requests) (3.10)\n",
            "Requirement already satisfied: urllib3<3,>=1.21.1 in /usr/local/lib/python3.11/dist-packages (from requests) (2.4.0)\n",
            "Requirement already satisfied: certifi>=2017.4.17 in /usr/local/lib/python3.11/dist-packages (from requests) (2025.7.14)\n"
          ]
        }
      ]
    },
    {
      "cell_type": "code",
      "source": [
        "import requests\n",
        "\n",
        "def get_weather(city_name, api_key):\n",
        "    base_url = \"https://api.openweathermap.org/data/2.5/weather\"\n",
        "    params = {\n",
        "        'q': city_name,\n",
        "        'appid': api_key,\n",
        "        'units': 'metric'\n",
        "    }\n",
        "\n",
        "    try:\n",
        "        response = requests.get(base_url, params=params)\n",
        "        data = response.json()\n",
        "\n",
        "        if response.status_code == 200:\n",
        "            print(f\"\\n📍 City: {data['name']}\")\n",
        "            print(f\"🌡️ Temperature: {data['main']['temp']}°C\")\n",
        "            print(f\"☁️ Weather: {data['weather'][0]['description'].title()}\")\n",
        "            print(f\"💨 Wind Speed: {data['wind']['speed']} m/s\")\n",
        "        else:\n",
        "            print(\"❌ Error:\", data['message'])\n",
        "\n",
        "    except Exception as e:\n",
        "        print(\"⚠️ Exception occurred:\", e)\n",
        "\n",
        "if __name__ == \"__main__\":\n",
        "    city = input(\"Enter city name: \")\n",
        "    api_key = input(\"Enter your OpenWeatherMap API key: \")\n",
        "    get_weather(city, api_key)\n"
      ],
      "metadata": {
        "colab": {
          "base_uri": "https://localhost:8080/"
        },
        "id": "oyfgQsns9-SR",
        "outputId": "ef90686c-797b-4710-c5e5-f98fbe087f7d"
      },
      "execution_count": null,
      "outputs": [
        {
          "name": "stdout",
          "output_type": "stream",
          "text": [
            "Enter city name: patiala\n"
          ]
        }
      ]
    }
  ]
}